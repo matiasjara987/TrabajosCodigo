{
 "cells": [
  {
   "cell_type": "code",
   "execution_count": 3,
   "id": "3fa0fdb9-1f8a-4bdc-8b65-f36f6a248962",
   "metadata": {},
   "outputs": [],
   "source": [
    "a = 2;\n",
    "g = 15;"
   ]
  },
  {
   "cell_type": "code",
   "execution_count": 5,
   "id": "89666b0c-7541-4960-b63f-993da0453df4",
   "metadata": {},
   "outputs": [
    {
     "data": {
      "text/plain": [
       "17"
      ]
     },
     "execution_count": 5,
     "metadata": {},
     "output_type": "execute_result"
    }
   ],
   "source": [
    "a + g"
   ]
  },
  {
   "cell_type": "code",
   "execution_count": null,
   "id": "f0856e2c-ac9e-4a7b-b353-26164fe0855b",
   "metadata": {},
   "outputs": [],
   "source": [
    "numero1 = 5\n",
    "numero2 = 8 \n",
    "suma = numero1 + numero2\n",
    "print(suma)"
   ]
  },
  {
   "cell_type": "code",
   "execution_count": null,
   "id": "72f66393-da76-4986-9af6-7295d2343b10",
   "metadata": {},
   "outputs": [],
   "source": [
    "miEdad = 20\n",
    "miEdad += 2 \n",
    "print(miEdad)"
   ]
  },
  {
   "cell_type": "code",
   "execution_count": null,
   "id": "ca62581d-b9d2-49b3-a159-cdda6ccb88c0",
   "metadata": {},
   "outputs": [],
   "source": [
    "a = 10\n",
    "b = 20\n",
    "c = 30\n",
    "resultadoFinal = a + b - c\n",
    "print(resultadoFinal)"
   ]
  },
  {
   "cell_type": "code",
   "execution_count": null,
   "id": "77604caf-faee-422c-8f71-09fe578e7a60",
   "metadata": {},
   "outputs": [],
   "source": [
    "saludo = \"Hola\"\n",
    "nombre = \"Matias\"\n",
    "mensajeCompleto = saludo +\" \"+ nombre\n",
    "print(mensajeCompleto)"
   ]
  },
  {
   "cell_type": "code",
   "execution_count": null,
   "id": "889fb4cf-3fb1-45bc-97af-0f667a86ad0b",
   "metadata": {},
   "outputs": [],
   "source": [
    "frase = '¿Te gustó más \"El Padrino\" o \"El Padrino II\"?'\n",
    "print(frase)"
   ]
  },
  {
   "cell_type": "code",
   "execution_count": null,
   "id": "44895062-b9bf-4077-9abd-86093e7f3e85",
   "metadata": {},
   "outputs": [],
   "source": [
    "texto1 = 'Viva python'\n",
    "texto2 = \"Viva python\"\n",
    "sonIguales = (texto1 == texto2)\n",
    "print(sonIguales)"
   ]
  },
  {
   "cell_type": "code",
   "execution_count": null,
   "id": "e8c85a6b-565e-45e9-bcaf-f16ed58693a7",
   "metadata": {},
   "outputs": [],
   "source": [
    "largo =12\n",
    "ancho =5\n",
    "area = largo * ancho\n",
    "print(area)"
   ]
  },
  {
   "cell_type": "code",
   "execution_count": null,
   "id": "30cebf56-b1df-4ef3-98e5-ce9c1f50fbbd",
   "metadata": {},
   "outputs": [],
   "source": [
    "celsius = 23\n",
    "fahrenheit = celsius *9/5 +32\n",
    "print(fahrenheit)"
   ]
  },
  {
   "cell_type": "code",
   "execution_count": null,
   "id": "22b57265-500c-4e66-8dfc-a7fb0b48060a",
   "metadata": {},
   "outputs": [],
   "source": [
    "numero_complejo = 4 + 12j\n",
    "print(type(numero_complejo))"
   ]
  },
  {
   "cell_type": "code",
   "execution_count": null,
   "id": "e9d002fb-16fd-4f65-9123-e94cdb6a1247",
   "metadata": {},
   "outputs": [],
   "source": [
    "a =  \"3\"\n",
    "\n",
    "b = \"4\"\n",
    "print(int(a) + int (b))"
   ]
  },
  {
   "cell_type": "code",
   "execution_count": null,
   "id": "d67f7705-2398-4322-b139-1b5166bb3e16",
   "metadata": {},
   "outputs": [],
   "source": [
    "a = 15\n",
    "b = 9\n",
    "print( a //b)"
   ]
  },
  {
   "cell_type": "code",
   "execution_count": null,
   "id": "515e9dea-1ea1-40d7-8869-814c2673c0f6",
   "metadata": {},
   "outputs": [],
   "source": [
    "mi_numero = 12\n",
    "raiz_cuadrada = 12 ** 0.5\n",
    "print(raiz_cuadrada)"
   ]
  }
 ],
 "metadata": {
  "kernelspec": {
   "display_name": "Python 3 (ipykernel)",
   "language": "python",
   "name": "python3"
  },
  "language_info": {
   "codemirror_mode": {
    "name": "ipython",
    "version": 3
   },
   "file_extension": ".py",
   "mimetype": "text/x-python",
   "name": "python",
   "nbconvert_exporter": "python",
   "pygments_lexer": "ipython3",
   "version": "3.12.4"
  }
 },
 "nbformat": 4,
 "nbformat_minor": 5
}
